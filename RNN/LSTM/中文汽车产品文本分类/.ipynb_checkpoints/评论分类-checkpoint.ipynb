{
 "cells": [
  {
   "cell_type": "code",
   "execution_count": 1,
   "id": "eca8819d-4ad5-4d3f-9d51-ee844d8504a9",
   "metadata": {},
   "outputs": [],
   "source": [
    "import pandas as pd\n",
    "import jieba\n",
    "import re\n",
    "import time"
   ]
  },
  {
   "cell_type": "markdown",
   "id": "3454090d-abaf-4409-967f-9ecc4515c4b8",
   "metadata": {},
   "source": [
    "### 数据预处理"
   ]
  },
  {
   "cell_type": "code",
   "execution_count": 2,
   "id": "4a2049d5-6728-4951-b2dc-9feb7823dc72",
   "metadata": {},
   "outputs": [],
   "source": [
    "# 加载停用词\n",
    "def load_stop_words():\n",
    "    stop_words = set([])\n",
    "    fname = './stopwords.txt'\n",
    "    with open(fname, encoding='utf-8') as f:\n",
    "        for line in f:\n",
    "            line = line.strip()\n",
    "            if not line:\n",
    "                continue\n",
    "            stop_words.add(line)\n",
    "    return stop_words   "
   ]
  },
  {
   "cell_type": "code",
   "execution_count": 3,
   "id": "e37aa935-e3c7-4eec-b48b-4bbc8fe965ee",
   "metadata": {},
   "outputs": [],
   "source": [
    "stop_words = load_stop_words()\n",
    "#stop_words"
   ]
  },
  {
   "cell_type": "code",
   "execution_count": 4,
   "id": "3aa1de2b-9e2b-499d-b4d2-0687062fa101",
   "metadata": {},
   "outputs": [],
   "source": [
    "# 分词\n",
    "def tokenizer(text):\n",
    "    return [word for word in jieba.cut(text) if word not in stop_words]"
   ]
  },
  {
   "cell_type": "code",
   "execution_count": 5,
   "id": "c7ee6bc9-bdd3-43a6-ae6e-21e10791ae6c",
   "metadata": {},
   "outputs": [
    {
     "name": "stderr",
     "output_type": "stream",
     "text": [
      "Building prefix dict from /Users/wangquanjun/miniforge3/envs/py39/lib/python3.9/site-packages/jieba/dict.txt ...\n",
      "Loading model from cache /var/folders/0t/5qc9q0vn381cwx3337k5ybdh0000gn/T/jieba.cache\n",
      "Loading model cost 0.4650759696960449 seconds.\n",
      "Prefix dict has been built succesfully.\n"
     ]
    },
    {
     "data": {
      "text/plain": [
       "['删除', '停', '用词', '接班人']"
      ]
     },
     "execution_count": 5,
     "metadata": {},
     "output_type": "execute_result"
    }
   ],
   "source": [
    "tokenizer('我们都是删除停用词接班人')"
   ]
  },
  {
   "cell_type": "code",
   "execution_count": 6,
   "id": "6690a41e-ed71-4ec7-b1bd-d8504eca0239",
   "metadata": {},
   "outputs": [],
   "source": [
    "# 加载训练集验证集\n",
    "traindata = pd.read_csv('./train.tsv', sep='\\t')\n",
    "validata = pd.read_csv('./validation.tsv', sep='\\t')"
   ]
  },
  {
   "cell_type": "code",
   "execution_count": 7,
   "id": "99824b97-97dc-43ed-a5ed-c5d4b9f0f001",
   "metadata": {},
   "outputs": [
    {
     "data": {
      "text/html": [
       "<div>\n",
       "<style scoped>\n",
       "    .dataframe tbody tr th:only-of-type {\n",
       "        vertical-align: middle;\n",
       "    }\n",
       "\n",
       "    .dataframe tbody tr th {\n",
       "        vertical-align: top;\n",
       "    }\n",
       "\n",
       "    .dataframe thead th {\n",
       "        text-align: right;\n",
       "    }\n",
       "</style>\n",
       "<table border=\"1\" class=\"dataframe\">\n",
       "  <thead>\n",
       "    <tr style=\"text-align: right;\">\n",
       "      <th></th>\n",
       "      <th>index</th>\n",
       "      <th>label</th>\n",
       "      <th>text</th>\n",
       "    </tr>\n",
       "  </thead>\n",
       "  <tbody>\n",
       "    <tr>\n",
       "      <th>0</th>\n",
       "      <td>0</td>\n",
       "      <td>0</td>\n",
       "      <td>备胎是硬伤！</td>\n",
       "    </tr>\n",
       "    <tr>\n",
       "      <th>1</th>\n",
       "      <td>1</td>\n",
       "      <td>0</td>\n",
       "      <td>要说不满意的话，那就是动力了，1.5自然吸气发动机对这款车有种小马拉大车的感觉。如今天气这么...</td>\n",
       "    </tr>\n",
       "    <tr>\n",
       "      <th>2</th>\n",
       "      <td>2</td>\n",
       "      <td>0</td>\n",
       "      <td>油耗显示13升还多一点，希望慢慢下降。没有倒车雷达真可恨</td>\n",
       "    </tr>\n",
       "    <tr>\n",
       "      <th>3</th>\n",
       "      <td>3</td>\n",
       "      <td>0</td>\n",
       "      <td>空调不太凉，应该是小问题。</td>\n",
       "    </tr>\n",
       "    <tr>\n",
       "      <th>4</th>\n",
       "      <td>4</td>\n",
       "      <td>0</td>\n",
       "      <td>1、后排座椅不能平放；2、科技感不强，还不如百万帝豪，最希望增加车联网的车机。像你好博越一样...</td>\n",
       "    </tr>\n",
       "  </tbody>\n",
       "</table>\n",
       "</div>"
      ],
      "text/plain": [
       "   index  label                                               text\n",
       "0      0      0                                             备胎是硬伤！\n",
       "1      1      0  要说不满意的话，那就是动力了，1.5自然吸气发动机对这款车有种小马拉大车的感觉。如今天气这么...\n",
       "2      2      0                       油耗显示13升还多一点，希望慢慢下降。没有倒车雷达真可恨\n",
       "3      3      0                                      空调不太凉，应该是小问题。\n",
       "4      4      0  1、后排座椅不能平放；2、科技感不强，还不如百万帝豪，最希望增加车联网的车机。像你好博越一样..."
      ]
     },
     "execution_count": 7,
     "metadata": {},
     "output_type": "execute_result"
    }
   ],
   "source": [
    "traindata.head()"
   ]
  },
  {
   "cell_type": "code",
   "execution_count": 8,
   "id": "ea84f2f7-2a82-416a-9e17-71dd1b4345ae",
   "metadata": {},
   "outputs": [
    {
     "data": {
      "text/html": [
       "<div>\n",
       "<style scoped>\n",
       "    .dataframe tbody tr th:only-of-type {\n",
       "        vertical-align: middle;\n",
       "    }\n",
       "\n",
       "    .dataframe tbody tr th {\n",
       "        vertical-align: top;\n",
       "    }\n",
       "\n",
       "    .dataframe thead th {\n",
       "        text-align: right;\n",
       "    }\n",
       "</style>\n",
       "<table border=\"1\" class=\"dataframe\">\n",
       "  <thead>\n",
       "    <tr style=\"text-align: right;\">\n",
       "      <th></th>\n",
       "      <th>index</th>\n",
       "      <th>label</th>\n",
       "      <th>text</th>\n",
       "    </tr>\n",
       "  </thead>\n",
       "  <tbody>\n",
       "    <tr>\n",
       "      <th>0</th>\n",
       "      <td>0</td>\n",
       "      <td>1</td>\n",
       "      <td>外观确实非常霸气，钻石切工有棱有角，3.0的动力在城市里绰绰有余，内饰考究，空间比较大，bo...</td>\n",
       "    </tr>\n",
       "    <tr>\n",
       "      <th>1</th>\n",
       "      <td>1</td>\n",
       "      <td>1</td>\n",
       "      <td>外观漂亮，安全性佳，动力够强，油耗够低</td>\n",
       "    </tr>\n",
       "    <tr>\n",
       "      <th>2</th>\n",
       "      <td>2</td>\n",
       "      <td>1</td>\n",
       "      <td>后备箱大！！！</td>\n",
       "    </tr>\n",
       "    <tr>\n",
       "      <th>3</th>\n",
       "      <td>3</td>\n",
       "      <td>1</td>\n",
       "      <td>空间大。外观大气，中控台用料讲究简洁</td>\n",
       "    </tr>\n",
       "    <tr>\n",
       "      <th>4</th>\n",
       "      <td>4</td>\n",
       "      <td>1</td>\n",
       "      <td>外观漂亮，空间够大，动力家用也ok</td>\n",
       "    </tr>\n",
       "  </tbody>\n",
       "</table>\n",
       "</div>"
      ],
      "text/plain": [
       "   index  label                                               text\n",
       "0      0      1  外观确实非常霸气，钻石切工有棱有角，3.0的动力在城市里绰绰有余，内饰考究，空间比较大，bo...\n",
       "1      1      1                                外观漂亮，安全性佳，动力够强，油耗够低\n",
       "2      2      1                                            后备箱大！！！\n",
       "3      3      1                                 空间大。外观大气，中控台用料讲究简洁\n",
       "4      4      1                                  外观漂亮，空间够大，动力家用也ok"
      ]
     },
     "execution_count": 8,
     "metadata": {},
     "output_type": "execute_result"
    }
   ],
   "source": [
    "validata.head()"
   ]
  },
  {
   "cell_type": "code",
   "execution_count": 9,
   "id": "69497f35-8f88-4759-8ffc-d55641b28f4d",
   "metadata": {},
   "outputs": [
    {
     "data": {
      "text/plain": [
       "0    28425\n",
       "1    28275\n",
       "Name: label, dtype: int64"
      ]
     },
     "execution_count": 9,
     "metadata": {},
     "output_type": "execute_result"
    }
   ],
   "source": [
    "# 正负样本的比例\n",
    "traindata['label'].value_counts()"
   ]
  },
  {
   "cell_type": "markdown",
   "id": "6c1fb0f2-5f61-4b9a-8e9e-2f178eb88e35",
   "metadata": {},
   "source": [
    "### 训练词向量"
   ]
  },
  {
   "cell_type": "code",
   "execution_count": 10,
   "id": "16b033e0-a942-46a7-851f-c8e97f6da108",
   "metadata": {},
   "outputs": [],
   "source": [
    "totaldata = pd.concat([traindata, validata])"
   ]
  },
  {
   "cell_type": "code",
   "execution_count": 11,
   "id": "79898cbd-36b5-4a80-b407-887c9c0bc915",
   "metadata": {},
   "outputs": [],
   "source": [
    "text_cut = []\n",
    "for _, row in totaldata.iterrows():\n",
    "    sentence = row['text']\n",
    "    seg = tokenizer(sentence)\n",
    "    text_cut.append(seg)"
   ]
  },
  {
   "cell_type": "code",
   "execution_count": 12,
   "id": "a1c899ac-5c1f-49b5-9f3d-241a9d152fac",
   "metadata": {},
   "outputs": [],
   "source": [
    "# 构造标准格式：空格分割\n",
    "text_concat = []\n",
    "for seg in text_cut:\n",
    "    seg_concat = [' '.join(seg)]\n",
    "    text_concat.append(seg_concat)"
   ]
  },
  {
   "cell_type": "code",
   "execution_count": 13,
   "id": "2e571039-e751-4052-92fd-c210c77dc30e",
   "metadata": {},
   "outputs": [
    {
     "data": {
      "text/plain": [
       "[['备胎 硬伤'],\n",
       " ['要说 满意 动力 1.5 自然 吸气 发动机 这款 车 有种 小马拉 大车 感觉 天气 热 上路 肯定 得开 空调 开 动力 感觉 不给力 空调 制冷 效果 不错'],\n",
       " ['油耗 显示 13 升 多一点 希望 慢慢 下降 倒车 雷达 真 可恨'],\n",
       " ['空调 不太凉'],\n",
       " ['1 后排 座椅 平放 2 科技 感不强 百万 帝豪 希望 增加 车 联网 车机 你好 博越 3 全景 摄像头 晚上 用处']]"
      ]
     },
     "execution_count": 13,
     "metadata": {},
     "output_type": "execute_result"
    }
   ],
   "source": [
    "text_concat[0: 5]"
   ]
  },
  {
   "cell_type": "code",
   "execution_count": 14,
   "id": "4ecf4af3-ad71-4c88-bd41-1e6325f17515",
   "metadata": {},
   "outputs": [],
   "source": [
    "corpus = pd.DataFrame(data=text_concat)"
   ]
  },
  {
   "cell_type": "code",
   "execution_count": 15,
   "id": "2c8a7c76-56ac-4d7d-857a-daffbe883c24",
   "metadata": {},
   "outputs": [],
   "source": [
    "corpus.to_csv('corpus.tsv', header=0, index=0)"
   ]
  },
  {
   "cell_type": "code",
   "execution_count": 16,
   "id": "95b0c680-2cb1-40ac-9a27-9eebf83a36c1",
   "metadata": {},
   "outputs": [],
   "source": [
    "from gensim.models import word2vec"
   ]
  },
  {
   "cell_type": "code",
   "execution_count": 17,
   "id": "8947026c-5fdb-4b96-a5c9-5025a124d64c",
   "metadata": {},
   "outputs": [],
   "source": [
    "sentences = word2vec.LineSentence('corpus.tsv')\n",
    "model = word2vec.Word2Vec(sentences, min_count=5)"
   ]
  },
  {
   "cell_type": "code",
   "execution_count": 18,
   "id": "acdac982-9050-4e53-a69d-9e21f390a50e",
   "metadata": {},
   "outputs": [],
   "source": [
    "# 保存模型"
   ]
  },
  {
   "cell_type": "code",
   "execution_count": 19,
   "id": "a47790a0-3610-4212-87cf-8112681c1fa1",
   "metadata": {},
   "outputs": [],
   "source": [
    "# model.save(\"comment.model\")\n",
    "# new_model = word2vec.Word2Vec.load('comment.model')\n",
    "\n",
    "model.wv.save_word2vec_format('vector.vector', binary=False)\n",
    "#new_model = gensim.models.KeyedVectors.load_word2vec_format('myvector.vector', binary=False)"
   ]
  },
  {
   "cell_type": "code",
   "execution_count": 20,
   "id": "ba7b700f-0219-42b6-8735-544539fd4def",
   "metadata": {},
   "outputs": [
    {
     "name": "stdout",
     "output_type": "stream",
     "text": [
      "'备胎'\t'轮胎'\t0.56\n",
      "'座椅'\t'后排'\t0.58\n",
      "'凉'\t'空调'\t0.66\n",
      "'真皮'\t'内饰'\t0.52\n",
      "'内饰'\t'轴距'\t0.11\n"
     ]
    }
   ],
   "source": [
    "pairs = [\n",
    "    ('备胎', '轮胎'),  \n",
    "    ('座椅', '后排'),   \n",
    "    ('凉', '空调'), \n",
    "    ('真皮', '内饰'), \n",
    "    ('内饰', '轴距'), \n",
    "]\n",
    "for w1, w2 in pairs:\n",
    "    print('%r\\t%r\\t%.2f' % (w1, w2,model.wv.similarity(w1, w2)))"
   ]
  },
  {
   "cell_type": "markdown",
   "id": "702a1c7b-b66b-4e6e-86b1-bddb72ee13a0",
   "metadata": {},
   "source": [
    "### 模型定义"
   ]
  },
  {
   "cell_type": "code",
   "execution_count": 21,
   "id": "d4eb27f7-201a-4a50-b89e-7e2cfac7d2ea",
   "metadata": {},
   "outputs": [],
   "source": [
    "import torch\n",
    "import torch.nn as nn\n",
    "import torch.nn.functional as F"
   ]
  },
  {
   "cell_type": "code",
   "execution_count": 22,
   "id": "071929f7-2349-4c08-a117-16ba0c8eae2b",
   "metadata": {},
   "outputs": [],
   "source": [
    "class BiRNN(nn.Module):\n",
    "    \n",
    "    def __init__(self, vocab_size, embedding_dim, num_hiddens, num_layers, vectors):\n",
    "        super(BiRNN, self).__init__()\n",
    "        \n",
    "        self.word_embeddings = nn.Embedding(vocab_size, embedding_dim)\n",
    "        self.word_embeddings = self.word_embeddings.from_pretrained(vectors, freeze=False)\n",
    "        \n",
    "        self.encoder = nn.LSTM(input_size=embedding_dim,\n",
    "                               hidden_size=num_hiddens,\n",
    "                               num_layers=num_layers,\n",
    "                               batch_first=True,\n",
    "                               bidirectional=True)\n",
    "        \n",
    "        self.decoder = nn.Linear(2*num_hiddens, 2)\n",
    "        \n",
    "    def forward(self, inputs):\n",
    "        \n",
    "        embeddings = self.word_embeddings(inputs)\n",
    "        \n",
    "        outputs, _ = self.encoder(embeddings)\n",
    "        \n",
    "        outs = self.decoder(outputs[:,-1,:])\n",
    "        return outs  "
   ]
  },
  {
   "cell_type": "code",
   "execution_count": 23,
   "id": "f2726647-dead-432c-a595-f3c3911f9fda",
   "metadata": {},
   "outputs": [],
   "source": [
    "from torchtext import data"
   ]
  },
  {
   "cell_type": "code",
   "execution_count": 24,
   "id": "bb2d9852-a7d7-4675-a599-aba4e29ed501",
   "metadata": {},
   "outputs": [],
   "source": [
    "# 输入数据构建\n",
    "\n",
    "# 1. 定义一个序列字段，文本\n",
    "text = data.Field(sequential=True, lower=True, tokenize=tokenizer, stop_words=stop_words)\n",
    "\n",
    "# 2.定义一个数值字段，标签\n",
    "label = data.Field(sequential=False)\n",
    "\n",
    "train, val = data.TabularDataset.splits(\n",
    "    path = './',\n",
    "    skip_header=True,\n",
    "    train='train.tsv',\n",
    "    validation='validation.tsv',\n",
    "    format='tsv',\n",
    "    fields=[('index', None), ('label', label), ('text', text)],\n",
    ")"
   ]
  },
  {
   "cell_type": "code",
   "execution_count": 25,
   "id": "70292c26-e14a-435f-b776-d5f2abf54983",
   "metadata": {},
   "outputs": [],
   "source": [
    "#train[2].text"
   ]
  },
  {
   "cell_type": "code",
   "execution_count": 26,
   "id": "5508dcbe-8d03-4dc8-9f31-1840510491c9",
   "metadata": {},
   "outputs": [],
   "source": [
    "#train[5].__dict__.keys()"
   ]
  },
  {
   "cell_type": "code",
   "execution_count": 27,
   "id": "f27ebde6-61fb-483c-9a14-904f052e22fc",
   "metadata": {},
   "outputs": [],
   "source": [
    "# import gensim\n",
    "# 读入预训练的Embedding:word2vec\n",
    "# model = gensim.models.KeyedVectors.load_word2vec_format('vector.vector', binary=False)"
   ]
  },
  {
   "cell_type": "code",
   "execution_count": 28,
   "id": "711d3fc8-4096-4341-af2d-5f0fed00fb14",
   "metadata": {},
   "outputs": [],
   "source": [
    "from torchtext.vocab import Vectors\n",
    "\n",
    "## 构建训练文本和标签的词向量\n",
    "vectors = Vectors(name='vector.vector')\n",
    "\n",
    "text.build_vocab(train, val, vectors=vectors) # 加入测试集的vertor\n",
    "label.build_vocab(train, val)"
   ]
  },
  {
   "cell_type": "code",
   "execution_count": 29,
   "id": "fac0080e-3833-4af3-8b61-5893b193f302",
   "metadata": {},
   "outputs": [],
   "source": [
    "#text.vocab.freqs.most_common(10)"
   ]
  },
  {
   "cell_type": "code",
   "execution_count": 30,
   "id": "271b2ed0-3ac7-4f6d-b650-b16a6bd32011",
   "metadata": {},
   "outputs": [],
   "source": [
    "vectors = text.vocab.vectors"
   ]
  },
  {
   "cell_type": "code",
   "execution_count": 31,
   "id": "899b4a5b-e9a7-43d5-a4fb-fc94a918856c",
   "metadata": {},
   "outputs": [
    {
     "data": {
      "text/plain": [
       "torch.Size([34805, 100])"
      ]
     },
     "execution_count": 31,
     "metadata": {},
     "output_type": "execute_result"
    }
   ],
   "source": [
    "vectors.shape"
   ]
  },
  {
   "cell_type": "code",
   "execution_count": 32,
   "id": "e7a45f19-8576-4f8e-be10-054af22224f1",
   "metadata": {},
   "outputs": [],
   "source": [
    "batch_size=128\n",
    "train_iter, val_iter = data.Iterator.splits(\n",
    "            (train, val),\n",
    "            sort_key=lambda x: len(x.text), # 使用文本长度对数据进行排序\n",
    "            batch_sizes=(batch_size, len(val)), # 训练集设置batch_size,验证集整个集合用于测试\n",
    "    )"
   ]
  },
  {
   "cell_type": "markdown",
   "id": "1187d83a-b900-4d14-a187-030c5af5e2e7",
   "metadata": {},
   "source": [
    "### 实例化模型"
   ]
  },
  {
   "cell_type": "code",
   "execution_count": 35,
   "id": "2156f837-4556-4baa-9a8a-b7dbee5ecb5d",
   "metadata": {},
   "outputs": [],
   "source": [
    "# batch_size=128\n",
    "vocab_size = len(text.vocab)\n",
    "embedding_dim = 100\n",
    "num_hiddens = 64\n",
    "num_layers = 1\n",
    "vectors = text.vocab.vectors\n",
    "net = BiRNN(vocab_size, embedding_dim, num_hiddens, num_layers, vectors)"
   ]
  },
  {
   "cell_type": "code",
   "execution_count": 36,
   "id": "847988a2-cd83-42b0-a0c1-eddbb352c891",
   "metadata": {},
   "outputs": [
    {
     "data": {
      "text/plain": [
       "BiRNN(\n",
       "  (word_embeddings): Embedding(34805, 100)\n",
       "  (encoder): LSTM(100, 64, batch_first=True, bidirectional=True)\n",
       "  (decoder): Linear(in_features=128, out_features=2, bias=True)\n",
       ")"
      ]
     },
     "execution_count": 36,
     "metadata": {},
     "output_type": "execute_result"
    }
   ],
   "source": [
    "net"
   ]
  },
  {
   "cell_type": "markdown",
   "id": "73a2816e-27c4-4392-9cc2-30f974de03a7",
   "metadata": {},
   "source": [
    "### 训练模型"
   ]
  },
  {
   "cell_type": "code",
   "execution_count": 37,
   "id": "c38e1246-dfb7-4253-b46a-c183150fe7b5",
   "metadata": {},
   "outputs": [],
   "source": [
    "def evaluate_accuracy(data_iter, net):\n",
    "    acc_sum = 0.0\n",
    "    n = 0\n",
    "    \n",
    "    with torch.no_grad():\n",
    "        for _, batch in enumerate(data_iter):\n",
    "            X, y = batch.text, batch.label\n",
    "            \n",
    "            X = X.permute(1, 0)\n",
    "            y.data.sub_(1)\n",
    "            \n",
    "            net.eval() # 评估模式, 这会关闭dropout\n",
    "            acc_sum += (net(X).argmax(dim=1) == y).float().sum().item()\n",
    "            net.train() # 改回训练模式\n",
    "            \n",
    "            n += y.shape[0]\n",
    "    return acc_sum / n"
   ]
  },
  {
   "cell_type": "code",
   "execution_count": 38,
   "id": "ede123f7-8bb6-4dc1-a92c-3f8a93245817",
   "metadata": {},
   "outputs": [],
   "source": [
    "y_hat = None\n",
    "y = None\n",
    "def train(train_iter, test_iter, net, loss, optimizer, num_epochs):\n",
    "    batch_count = 0\n",
    "    for epoch in range(num_epochs):\n",
    "        train_l_sum, train_acc_sum, n, start = 0.0, 0.0, 0, time.time()\n",
    "        for batch_idx, batch in enumerate(train_iter):\n",
    "            X, y = batch.text, batch.label\n",
    "            \n",
    "            X = X.permute(1, 0)\n",
    "            y.data.sub_(1)  #X转置\n",
    "            \n",
    "            # sequence_length 不定长，可以提前pad，也也可以在dataloader的coll_fn动态以batch最长进行pad\n",
    "            \n",
    "            y_hat = net(X)\n",
    "            \n",
    "            # print(y_hat, y_hat.shape)         \n",
    "            # print(y, y.shape)\n",
    "            l = loss(y_hat, y)\n",
    "            optimizer.zero_grad()\n",
    "            l.backward()\n",
    "            optimizer.step()\n",
    "            train_l_sum += l.item()\n",
    "            train_acc_sum += (y_hat.argmax(dim=1) == y).sum().item()\n",
    "            n += y.shape[0]\n",
    "            batch_count += 1\n",
    "        test_acc = evaluate_accuracy(test_iter, net)\n",
    "        print(\n",
    "            'epoch %d, loss %.4f, train acc %.3f, test acc %.3f, time %.1f sec'\n",
    "            % (epoch + 1, train_l_sum / batch_count, train_acc_sum / n,\n",
    "               test_acc, time.time() - start))"
   ]
  },
  {
   "cell_type": "code",
   "execution_count": 39,
   "id": "8009933b-0ca0-4ea0-8e94-5d051c9e15c8",
   "metadata": {},
   "outputs": [
    {
     "name": "stdout",
     "output_type": "stream",
     "text": [
      "epoch 1, loss 0.3927, train acc 0.841, test acc 0.898, time 17.6 sec\n",
      "epoch 2, loss 0.0995, train acc 0.929, test acc 0.911, time 18.7 sec\n",
      "epoch 3, loss 0.0449, train acc 0.953, test acc 0.914, time 18.8 sec\n",
      "epoch 4, loss 0.0246, train acc 0.965, test acc 0.913, time 18.6 sec\n",
      "epoch 5, loss 0.0158, train acc 0.972, test acc 0.910, time 18.7 sec\n",
      "epoch 6, loss 0.0115, train acc 0.975, test acc 0.912, time 19.1 sec\n",
      "epoch 7, loss 0.0091, train acc 0.977, test acc 0.915, time 18.8 sec\n",
      "epoch 8, loss 0.0075, train acc 0.978, test acc 0.914, time 19.1 sec\n",
      "epoch 9, loss 0.0064, train acc 0.979, test acc 0.914, time 19.1 sec\n",
      "epoch 10, loss 0.0054, train acc 0.980, test acc 0.911, time 18.9 sec\n"
     ]
    }
   ],
   "source": [
    "lr, num_epochs = 0.01, 10\n",
    "optimizer = torch.optim.Adam(net.parameters(), lr=lr)\n",
    "loss = nn.CrossEntropyLoss()\n",
    "train(train_iter, val_iter, net, loss, optimizer, num_epochs)"
   ]
  },
  {
   "cell_type": "markdown",
   "id": "24279335-1b0f-409a-a053-f865bfd7e585",
   "metadata": {},
   "source": [
    "### 保存模型"
   ]
  },
  {
   "cell_type": "code",
   "execution_count": 41,
   "id": "35713ddc-ed4f-4aac-b171-1dd64de28ba1",
   "metadata": {},
   "outputs": [],
   "source": [
    "torch.save(net, './lstm_cls.model')"
   ]
  },
  {
   "cell_type": "markdown",
   "id": "1430932b-32c1-4917-a75d-b1bff40352e6",
   "metadata": {},
   "source": [
    "### 读取模型"
   ]
  },
  {
   "cell_type": "code",
   "execution_count": 42,
   "id": "ec83728c-4ef8-4cfe-a725-5780d57a41a7",
   "metadata": {},
   "outputs": [],
   "source": [
    "# batch_size=128\n",
    "vocab_size = len(text.vocab)\n",
    "embedding_dim = 100\n",
    "num_hiddens = 64\n",
    "num_layers = 1\n",
    "vectors = text.vocab.vectors\n",
    "model_cls = BiRNN(vocab_size, embedding_dim, num_hiddens, num_layers, vectors)"
   ]
  },
  {
   "cell_type": "code",
   "execution_count": 43,
   "id": "33cb8700-1352-4fe4-afee-c670fd492451",
   "metadata": {},
   "outputs": [],
   "source": [
    "model_cls = torch.load('./lstm_cls.model')"
   ]
  },
  {
   "cell_type": "code",
   "execution_count": 44,
   "id": "d34377ef-36d8-46ff-b63e-b3f6fcaf5032",
   "metadata": {},
   "outputs": [],
   "source": [
    "def predict(sentence, model, text):\n",
    "    with torch.no_grad():\n",
    "        model.eval()\n",
    "        words = tokenizer(sentence)\n",
    "        words_vec = [text.vocab.stoi[word] for word in words]\n",
    "        x = torch.tensor([words_vec])\n",
    "        y_hat = model(x)\n",
    "        \n",
    "        # print(y_hat)\n",
    "        # label = y_hat.argmax(dim=1)\n",
    "        # print(label)\n",
    "        # print(label.numpy())\n",
    "        print(y_hat.numpy())\n",
    "        label = y_hat.argmax(dim=1).numpy()[0]\n",
    "        \n",
    "        return label  "
   ]
  },
  {
   "cell_type": "code",
   "execution_count": 45,
   "id": "606c5c72-2b05-405e-828e-9f746b0823cd",
   "metadata": {},
   "outputs": [
    {
     "name": "stdout",
     "output_type": "stream",
     "text": [
      "[[ 3.6799343 -3.8598576]]\n",
      "0\n"
     ]
    }
   ],
   "source": [
    "sentence = '要说不满意的话，那就是动力了，1.5自然吸气发动机对这款车有种小马拉大车的感觉。如今天气这么热，上路肯定得开空调，开了后动力明显感觉有些不给力不过空调制冷效果还是不错的。'\n",
    "sentence = '要说不满意的话，那就是动力了，1.5自然吸气发动机对这款车有种小马拉大车的感觉。如今天气这么热，上路肯定得开空调，开了后动力明显感觉有些不给力不过空调制冷效果还是不错的。天安门'\n",
    "#print(list(jieba.cut(sentence)))\n",
    "\n",
    "label = predict(sentence, model_cls, text)\n",
    "print(label)"
   ]
  },
  {
   "cell_type": "code",
   "execution_count": 46,
   "id": "143a120e-e697-4f6a-b680-e14f25385a40",
   "metadata": {},
   "outputs": [
    {
     "name": "stdout",
     "output_type": "stream",
     "text": [
      "[[-3.7052402  3.7136812]]\n",
      "1\n"
     ]
    }
   ],
   "source": [
    "sentence = '外观确实非常霸气，钻石切工有棱有角，3.0的动力在城市里绰绰有余，内饰考究，空间比较大，bose的音响非常给力，小众品牌不像德系三架马车那样成为街车，为个性代言。'\n",
    "label = predict(sentence, net, text)\n",
    "print(label)"
   ]
  },
  {
   "cell_type": "code",
   "execution_count": null,
   "id": "daa52959-9d9e-408c-8e54-5d30dfd1ed63",
   "metadata": {},
   "outputs": [],
   "source": []
  }
 ],
 "metadata": {
  "kernelspec": {
   "display_name": "Python 3 (ipykernel)",
   "language": "python",
   "name": "python3"
  },
  "language_info": {
   "codemirror_mode": {
    "name": "ipython",
    "version": 3
   },
   "file_extension": ".py",
   "mimetype": "text/x-python",
   "name": "python",
   "nbconvert_exporter": "python",
   "pygments_lexer": "ipython3",
   "version": "3.9.9"
  }
 },
 "nbformat": 4,
 "nbformat_minor": 5
}
